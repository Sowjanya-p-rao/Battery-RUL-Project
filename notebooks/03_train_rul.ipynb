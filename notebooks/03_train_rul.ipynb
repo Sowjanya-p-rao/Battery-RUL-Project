{
 "cells": [
  {
   "cell_type": "markdown",
   "metadata": {},
   "source": [
    "# Supervised Learning – RUL Prediction\n",
    "This notebook trains LSTM and XGBoost models to predict Remaining Useful Life (RUL) of EV batteries from CALCE dataset."
   ]
  },
  {
   "cell_type": "code",
   "metadata": {},
   "execution_count": null,
   "outputs": [],
   "source": [
    "import pandas as pd\n",
    "import numpy as np\n",
    "from sklearn.model_selection import train_test_split\n",
    "from sklearn.metrics import mean_squared_error, mean_absolute_error, r2_score\n",
    "from xgboost import XGBRegressor\n",
    "import matplotlib.pyplot as plt\n",
    "from src.models.lstm import build_lstm\n",
    "import tensorflow as tf"
   ]
  },
  {
   "cell_type": "markdown",
   "metadata": {},
   "source": [
    "## Load Data"
   ]
  },
  {
   "cell_type": "code",
   "metadata": {},
   "execution_count": null,
   "outputs": [],
   "source": [
    "df = pd.read_csv('../data/processed/cell01.csv')\n",
    "X = df[['voltage','current','temperature']].values\n",
    "RUL = len(df) - df['cycle'].values\n",
    "X_train, X_test, y_train, y_test = train_test_split(X, RUL, test_size=0.2, shuffle=False)"
   ]
  },
  {
   "cell_type": "markdown",
   "metadata": {},
   "source": [
    "## XGBoost Baseline"
   ]
  },
  {
   "cell_type": "code",
   "metadata": {},
   "execution_count": null,
   "outputs": [],
   "source": [
    "xgb = XGBRegressor(n_estimators=300, max_depth=6, learning_rate=0.05)\n",
    "xgb.fit(X_train, y_train)\n",
    "preds = xgb.predict(X_test)\n",
    "print(\"XGB RMSE:\", mean_squared_error(y_test, preds, squared=False))\n",
    "print(\"XGB MAE:\", mean_absolute_error(y_test, preds))"
   ]
  },
  {
   "cell_type": "markdown",
   "metadata": {},
   "source": [
    "## LSTM Model"
   ]
  },
  {
   "cell_type": "code",
   "metadata": {},
   "execution_count": null,
   "outputs": [],
   "source": [
    "X_train_lstm = np.expand_dims(X_train, axis=1)\n",
    "X_test_lstm = np.expand_dims(X_test, axis=1)\n",
    "lstm = build_lstm((1, X_train.shape[1]))\n",
    "history = lstm.fit(X_train_lstm, y_train, epochs=10, batch_size=32, validation_split=0.2)\n",
    "preds_lstm = lstm.predict(X_test_lstm).flatten()\n",
    "print(\"LSTM RMSE:\", mean_squared_error(y_test, preds_lstm, squared=False))\n",
    "print(\"LSTM R²:\", r2_score(y_test, preds_lstm))"
   ]
  }
 ]
}
