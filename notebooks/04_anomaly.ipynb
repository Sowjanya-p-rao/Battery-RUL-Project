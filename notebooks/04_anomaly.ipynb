{
 "cells": [
  {
   "cell_type": "markdown",
   "metadata": {},
   "source": [
    "# Unsupervised Anomaly Detection – CALCE Battery Dataset\n",
    "This notebook applies Autoencoder reconstruction error to detect early battery degradation anomalies."
   ]
  },
  {
   "cell_type": "code",
   "metadata": {},
   "execution_count": null,
   "outputs": [],
   "source": [
    "import pandas as pd\n",
    "import numpy as np\n",
    "from sklearn.model_selection import train_test_split\n",
    "from src.models.autoencoder import build_autoencoder\n",
    "import matplotlib.pyplot as plt"
   ]
  },
  {
   "cell_type": "markdown",
   "metadata": {},
   "source": [
    "## Load Data"
   ]
  },
  {
   "cell_type": "code",
   "metadata": {},
   "execution_count": null,
   "outputs": [],
   "source": [
    "df = pd.read_csv('../data/processed/cell01.csv')\n",
    "X = df[['voltage','current','temperature']].values\n",
    "X_train, X_test = train_test_split(X, test_size=0.2, shuffle=False)"
   ]
  },
  {
   "cell_type": "markdown",
   "metadata": {},
   "source": [
    "## Train Autoencoder"
   ]
  },
  {
   "cell_type": "code",
   "metadata": {},
   "execution_count": null,
   "outputs": [],
   "source": [
    "ae = build_autoencoder(input_dim=X.shape[1])\n",
    "history = ae.fit(X_train, X_train, epochs=20, batch_size=64, validation_split=0.2, verbose=1)\n",
    "recon = ae.predict(X_test)\n",
    "errors = np.mean((X_test - recon)**2, axis=1)"
   ]
  },
  {
   "cell_type": "markdown",
   "metadata": {},
   "source": [
    "## Anomaly Thresholding"
   ]
  },
  {
   "cell_type": "code",
   "metadata": {},
   "execution_count": null,
   "outputs": [],
   "source": [
    "threshold = np.percentile(errors, 95)\n",
    "anomalies = errors > threshold\n",
    "print(f\"Anomaly threshold: {threshold}\")\n",
    "print(f\"Detected anomalies: {np.sum(anomalies)}\")\n",
    "\n",
    "plt.figure(figsize=(10,5))\n",
    "plt.plot(errors, label='Reconstruction Error')\n",
    "plt.axhline(threshold, color='red', linestyle='--', label='Threshold')\n",
    "plt.legend()\n",
    "plt.title('Autoencoder Anomaly Detection')\n",
    "plt.show()"
   ]
  }
 ]
}
