{
 "cells": [
  {
   "cell_type": "markdown",
   "metadata": {},
   "source": [
    "# Exploratory Data Analysis (EDA) – CALCE Battery Dataset\n",
    "This notebook explores raw battery cycle data for trends in voltage, current, temperature, and capacity fade."
   ]
  },
  {
   "cell_type": "code",
   "metadata": {},
   "execution_count": null,
   "outputs": [],
   "source": [
    "import pandas as pd\n",
    "import matplotlib.pyplot as plt\n",
    "import seaborn as sns\n\n",
    "# Load processed CSV (from preprocess.py)\n",
    "df = pd.read_csv('../data/processed/cell01.csv')\n",
    "df.head()"
   ]
  },
  {
   "cell_type": "markdown",
   "metadata": {},
   "source": [
    "## Capacity Fade Across Cycles"
   ]
  },
  {
   "cell_type": "code",
   "metadata": {},
   "execution_count": null,
   "outputs": [],
   "source": [
    "plt.figure(figsize=(8,5))\n",
    "sns.lineplot(data=df, x='cycle', y='capacity')\n",
    "plt.title('Capacity Degradation over Cycles')\n",
    "plt.xlabel('Cycle Number')\n",
    "plt.ylabel('Capacity (Ah)')\n",
    "plt.show()"
   ]
  },
  {
   "cell_type": "markdown",
   "metadata": {},
   "source": [
    "## Voltage and Current Trends"
   ]
  },
  {
   "cell_type": "code",
   "metadata": {},
   "execution_count": null,
   "outputs": [],
   "source": [
    "plt.figure(figsize=(10,5))\n",
    "sns.scatterplot(x=df['voltage'], y=df['current'], hue=df['cycle'], palette='viridis')\n",
    "plt.title('Voltage vs Current across Cycles')\n",
    "plt.xlabel('Voltage (V)')\n",
    "plt.ylabel('Current (A)')\n",
    "plt.show()"
   ]
  }
 ]
}
