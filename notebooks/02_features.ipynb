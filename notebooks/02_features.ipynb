{
 "cells": [
  {
   "cell_type": "markdown",
   "metadata": {},
   "source": [
    "# Feature Engineering – CALCE Battery Dataset\n",
    "This notebook extracts predictive features from cycle-level data."
   ]
  },
  {
   "cell_type": "code",
   "metadata": {},
   "execution_count": null,
   "outputs": [],
   "source": [
    "import pandas as pd\n",
    "import numpy as np\n\n",
    "df = pd.read_csv('../data/processed/cell01.csv')\n",
    "df.head()"
   ]
  },
  {
   "cell_type": "markdown",
   "metadata": {},
   "source": [
    "## Derived Features"
   ]
  },
  {
   "cell_type": "code",
   "metadata": {},
   "execution_count": null,
   "outputs": [],
   "source": [
    "df['deltaV'] = df['voltage'].max() - df['voltage'].min()\n",
    "df['mean_current'] = df['current'].mean()\n",
    "df['temp_rise'] = df['temperature'] - df['temperature'].iloc[0]\n",
    "df['SOH'] = df['capacity'] / df['capacity'].iloc[0]\n",
    "df['RUL'] = len(df) - df['cycle']\n",
    "df[['cycle','deltaV','mean_current','temp_rise','SOH','RUL']].head()"
   ]
  },
  {
   "cell_type": "markdown",
   "metadata": {},
   "source": [
    "## Correlation Matrix"
   ]
  },
  {
   "cell_type": "code",
   "metadata": {},
   "execution_count": null,
   "outputs": [],
   "source": [
    "import seaborn as sns\n",
    "import matplotlib.pyplot as plt\n\n",
    "plt.figure(figsize=(8,6))\n",
    "sns.heatmap(df[['deltaV','mean_current','temp_rise','SOH','RUL']].corr(), annot=True, cmap='coolwarm')\n",
    "plt.title('Feature Correlation Heatmap')\n",
    "plt.show()"
   ]
  }
 ]
}
